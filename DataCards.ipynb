{
  "cells": [
    {
      "cell_type": "markdown",
      "metadata": {
        "id": "view-in-github",
        "colab_type": "text"
      },
      "source": [
        "<a href=\"https://colab.research.google.com/github/thoov3r98/DataQualityHPPredictions/blob/main/DataCards.ipynb\" target=\"_parent\"><img src=\"https://colab.research.google.com/assets/colab-badge.svg\" alt=\"Open In Colab\"/></a>"
      ]
    },
    {
      "cell_type": "code",
      "execution_count": null,
      "metadata": {
        "colab": {
          "base_uri": "https://localhost:8080/"
        },
        "id": "it7NyODXp30A",
        "outputId": "75c5c654-60fd-46ac-9be5-1e245fc90afd"
      },
      "outputs": [
        {
          "output_type": "stream",
          "name": "stdout",
          "text": [
            "Collecting reportlab\n",
            "  Downloading reportlab-3.6.9-cp37-cp37m-manylinux_2_17_x86_64.manylinux2014_x86_64.whl (2.7 MB)\n",
            "\u001b[K     |████████████████████████████████| 2.7 MB 6.3 MB/s \n",
            "\u001b[?25hRequirement already satisfied: pillow>=4.0.0 in /usr/local/lib/python3.7/dist-packages (from reportlab) (7.1.2)\n",
            "Installing collected packages: reportlab\n",
            "Successfully installed reportlab-3.6.9\n"
          ]
        }
      ],
      "source": [
        "pip install reportlab"
      ]
    },
    {
      "cell_type": "code",
      "execution_count": null,
      "metadata": {
        "id": "W5xgnv87pozU"
      },
      "outputs": [],
      "source": [
        "from reportlab.pdfgen import canvas\n",
        "from reportlab.pdfbase.ttfonts import TTFont\n",
        "from reportlab.pdfbase import pdfmetrics\n",
        "from reportlab.lib import colors\n",
        "import pandas as pd"
      ]
    },
    {
      "cell_type": "code",
      "execution_count": null,
      "metadata": {
        "colab": {
          "base_uri": "https://localhost:8080/"
        },
        "id": "ttSphBhlqEQ1",
        "outputId": "1185a52f-0130-4860-d553-f7d1a07111d7"
      },
      "outputs": [
        {
          "output_type": "stream",
          "name": "stdout",
          "text": [
            "Mounted at /content/drive\n"
          ]
        }
      ],
      "source": [
        "from google.colab import drive\n",
        "drive.mount('/content/drive')\n",
        "path= \"/content/drive/Shared drives/Capstone 440/Data/Predictors2.csv\""
      ]
    },
    {
      "cell_type": "code",
      "execution_count": null,
      "metadata": {
        "id": "sUeTGBjlVdee"
      },
      "outputs": [],
      "source": [
        "predictors"
      ]
    },
    {
      "cell_type": "code",
      "execution_count": null,
      "metadata": {
        "id": "rMUZHN7-pyMV"
      },
      "outputs": [],
      "source": [
        "predictors = pd.read_csv(\"/content/drive/Shared drives/Capstone 440/Data/\" + \"Predictors2.csv\")\n",
        "\n",
        "for count, row in predictors.iterrows():\n",
        "\t# initializing variables with values\n",
        "\tfileName = row['Data Name'] + ' Data Card.pdf'\n",
        "\ttitle = row['Data Name'] + \" Data Set\"\n",
        "\tsubTitle = 'An Analysis of Data Quality'\n",
        "\ttextLines = [\n",
        "\t\t'Column/Row Ratio: '+ str(row['Column Row Ratio']),\n",
        "\t\t'File Size: ' + str(row['File Size']),\n",
        "\t\t'File Type: ' + str(row['File Type']),\n",
        "\t\t'Uniqueness Score:  ' + str(row['Uniqueness Score']),\n",
        "\t\t'Accuracy Score (Numerical): ' + str(row['Accuracy Score (Numerical)']),\n",
        "\t\t'Accuracy Score (Categorical): ' + str(row['Accuracy Score (Categorical)']),\n",
        "\t\t'Coverage Score: ' + str(row['Coverage Score']),\n",
        "\t\t'Conformity Score: ' + str(row['Conformity Score']),\n",
        "\t\t'Timliness Score: ' + str(row['Timeliness Score'])\n",
        "\t]\n",
        "\t\n",
        "\t# creating a pdf object\n",
        "\tpdf = canvas.Canvas(fileName)\n",
        "\n",
        "\t# setting the title of the document\n",
        "\tpdf.setTitle(documentTitle)\n",
        "\n",
        "\t# registering a external font in python\n",
        "\tpdfmetrics.registerFont(\n",
        "\t\tTTFont('Times', '/content/drive/Shared drives/Capstone 440/Code/times-new-roman.ttf')\n",
        "\t)\n",
        "\n",
        "\t# creating the title by setting it's font\n",
        "\t# and putting it on the canvas\n",
        "\tpdf.setFont('Times-Bold', 36)\n",
        "\tpdf.drawCentredString(300, 770, title)\n",
        "\t# creating the subtitle by setting it's font,\n",
        "\t# colour and putting it on the canvas\n",
        "\tpdf.setFillColorRGB(0,0,0)\n",
        "\tpdf.setFont(\"Times-Bold\", 20)\n",
        "\tpdf.drawCentredString(290, 720, subTitle)\n",
        "\n",
        "\t# drawing a line\n",
        "\tpdf.line(30, 710, 550, 710)\n",
        "\n",
        "\t# creating a multiline text using\n",
        "\t# textline and for loop\n",
        "\ttext = pdf.beginText(40, 680)\n",
        "\ttext.setFont(\"Times\", 18)\n",
        "\ttext.setFillColor(colors.black)\n",
        "\tfor line in textLines:\n",
        "\t\ttext.textLine(line)\n",
        "\tpdf.drawText(text)\n",
        "\n",
        "\n",
        "\t# saving the pdf\n",
        "\tpdf.save()\n",
        "\tbreak\n"
      ]
    }
  ],
  "metadata": {
    "colab": {
      "name": "DataCards.ipynb",
      "provenance": [],
      "authorship_tag": "ABX9TyPXYxQ5imIdDLig2Y3qFsiJ",
      "include_colab_link": true
    },
    "kernelspec": {
      "display_name": "Python 3",
      "name": "python3"
    },
    "language_info": {
      "name": "python"
    }
  },
  "nbformat": 4,
  "nbformat_minor": 0
}