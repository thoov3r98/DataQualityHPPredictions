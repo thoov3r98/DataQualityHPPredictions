{
  "nbformat": 4,
  "nbformat_minor": 0,
  "metadata": {
    "colab": {
      "name": "MetricsPipeline.ipynb",
      "provenance": [],
      "collapsed_sections": [
        "PFNy7Uo_m8vK",
        "ljttvxX7nHOE",
        "xFxZ-_IrnOpj",
        "7AGzSLeKnRGl",
        "yKt9bNB0ngtS",
        "DXwEIkgrnvqd",
        "wuW1b0ygjhx6"
      ],
      "include_colab_link": true
    },
    "kernelspec": {
      "name": "python3",
      "display_name": "Python 3"
    },
    "language_info": {
      "name": "python"
    }
  },
  "cells": [
    {
      "cell_type": "markdown",
      "metadata": {
        "id": "view-in-github",
        "colab_type": "text"
      },
      "source": [
        "<a href=\"https://colab.research.google.com/github/thoov3r98/DataQualityHPPredictions/blob/main/MetricsPipeline.ipynb\" target=\"_parent\"><img src=\"https://colab.research.google.com/assets/colab-badge.svg\" alt=\"Open In Colab\"/></a>"
      ]
    },
    {
      "cell_type": "markdown",
      "source": [
        "# Data Quality MAIN"
      ],
      "metadata": {
        "id": "DBztUy2JeekD"
      }
    },
    {
      "cell_type": "code",
      "source": [
        "class DataQualityTest:\n",
        "  def __init__(self, dataName):\n",
        "    self.dataName = dataName\n",
        "    self.path = \"/content/drive/Shared drives/Capstone 440/Data/\" + dataName + \".csv\"\n",
        "    self.data = Table.read_table(self.path)\n",
        "    self.columnRowRatio, self.columnRowStr = column_row_ratio(self.data)\n",
        "    self.fileSize = file_size(self.path)\n",
        "    self.fileType = file_type(self.path)\n",
        "    self.numDuplicateRows, self.uniquenessScore, self.dupRowsList = uniqueness(self.path)\n",
        "    self.numOutliers, self.catOutliers, self.numOutliersScore, self.catOutliersScore = accuracy(self.path)\n",
        "    self.completeness = completeness(self.path)\n",
        "    self.coverageStr, self.coverageScore = coverage(self.path)\n",
        "    self.conformityDF, self.conformityScore = conformity_consistency(self.path)\n",
        "    self.timelinessDays, self.timelinessScore = Timeliness(askUser=False)\n",
        "\n",
        "\n",
        "  def outputToUser(self):\n",
        "    print(\"COLUMN ROW RATIO: \" + '\\n' + 'The column to row ratio is ' + str(self.columnRowRatio) +'\\n' + self.columnRowStr + '\\n')\n",
        "    print(\"FILE SIZE: \" + '\\n' + \"The imported file is: \" + str(self.fileSize) + \" Bytes\" + '\\n')\n",
        "    print(\"FILE TYPE: \" + '\\n' + \"The imported file is a: \" + str(self.fileType) + \" file\" + '\\n')\n",
        "    print(\"UNIQUENESS: \" + '\\n' + \"The number of duplicate rows is(are) \" + self.numDuplicateRows + \" which gives the dataset a uniqueness score of \" + self.uniquenessScore)\n",
        "    print(\"The duplicate rows are: \")\n",
        "    print(self.dupRowsList)\n",
        "    print('\\n' + \"ACCURACY: \" + '\\n' + \"Numerical Outliers (row numbers in dataset): \")\n",
        "    print(self.numOutliers)\n",
        "    print(\"Categorical Correct Spellings (On scale from 0-1): \")\n",
        "    print(self.catOutliers)\n",
        "    print('\\n' + \"COMPLETENESS:\")\n",
        "    print(self.completeness)\n",
        "    print(\"COVERAGE (Where 0 is best score): \")\n",
        "    \n",
        "    print(self.coverageStr)\n",
        "    print('\\n' + \"CONFORMITY: \" + '\\n' + 'The conformity score is ' + str(self.conformityScore))\n",
        "    print(\"Count of rows with described type of data: \")\n",
        "    print(self.conformityDF)\n",
        "    print('\\n' + 'TIMELINESS: ' + '\\n' + 'The timeliness score is ' + str(self.timelinessScore) + '\\n' + 'Age of data: ' + str(self.timelinessDays) + ' days')\n",
        "\n",
        "  def outputAsDict(self):\n",
        "    outputDict = {\n",
        "        'Data Name':self.dataName,\n",
        "        'Column Row Ratio':self.columnRowRatio,\n",
        "        'File Size':self.fileSize,\n",
        "        'File Type':self.fileType,\n",
        "        'Uniqueness Score':self.uniquenessScore,\n",
        "        'Accuracy Score (Numerical)':self.numOutliersScore,\n",
        "        'Accuracy Score (Categorical)':self.catOutliersScore,\n",
        "        'Coverage Score': self.coverageScore,\n",
        "        'Conformity Score':self.conformityScore,\n",
        "        'Timeliness Score': self.timelinessScore\n",
        "    }\n",
        "\n",
        "    return outputDict\n"
      ],
      "metadata": {
        "id": "qqgnhVQzIU61"
      },
      "execution_count": null,
      "outputs": []
    },
    {
      "cell_type": "code",
      "source": [
        "metaDataDictionary = pd.read_csv(\"/content/drive/Shared drives/Capstone 440/Data/\" + \"Meta Data3.csv\")"
      ],
      "metadata": {
        "id": "MEpHxHXHvE-8"
      },
      "execution_count": null,
      "outputs": []
    },
    {
      "cell_type": "code",
      "source": [
        "predictorDict = {}\n",
        "\n",
        "for i in range(len(metaDataDictionary['Dataset'])):\n",
        "  print(i)\n",
        "  print(metaDataDictionary['Dataset'][i])\n",
        "  dqTest = DataQualityTest(metaDataDictionary['Dataset'][i])\n",
        "  \n",
        "  metrics = dqTest.outputAsDict()\n",
        "  predictorDict[dqTest.dataName] = metrics"
      ],
      "metadata": {
        "colab": {
          "base_uri": "https://localhost:8080/"
        },
        "id": "7HEcuqiuvLiR",
        "outputId": "507920c2-656e-4753-e25e-1d42ab3bff12"
      },
      "execution_count": null,
      "outputs": [
        {
          "metadata": {
            "tags": null
          },
          "name": "stdout",
          "output_type": "stream",
          "text": [
            "0\n",
            "iris\n",
            "1\n",
            "abalone\n",
            "2\n",
            "mushrooms\n",
            "3\n",
            "drug200\n",
            "4\n",
            "kag_risk_factors_cervical_cancer\n",
            "5\n",
            "healthcare-dataset-stroke-data\n",
            "6\n",
            "csgo_round_snapshots\n",
            "7\n",
            "Transformed Data Set - Sheet1\n",
            "8\n",
            "diabetes\n",
            "9\n",
            "housingprices\n"
          ]
        },
        {
          "metadata": {
            "tags": null
          },
          "name": "stderr",
          "output_type": "stream",
          "text": [
            "/usr/local/lib/python3.7/dist-packages/ipykernel_launcher.py:47: DeprecationWarning: The truth value of an empty array is ambiguous. Returning False, but in future this will result in an error. Use `array.size > 0` to check that an array is not empty.\n",
            "/usr/local/lib/python3.7/dist-packages/ipykernel_launcher.py:66: DeprecationWarning: The truth value of an empty array is ambiguous. Returning False, but in future this will result in an error. Use `array.size > 0` to check that an array is not empty.\n"
          ]
        },
        {
          "metadata": {
            "tags": null
          },
          "name": "stdout",
          "output_type": "stream",
          "text": [
            "10\n",
            "insurance\n",
            "11\n",
            "winequality-red\n",
            "12\n",
            "framingham_heart_disease\n",
            "13\n",
            "vw\n",
            "14\n",
            "Student_Marks\n",
            "15\n",
            "GOOG\n",
            "16\n",
            "Salary_Data\n",
            "17\n",
            "forestfires\n",
            "18\n",
            "zoo\n",
            "19\n",
            "yeast\n",
            "20\n",
            "wifi_localization\n",
            "21\n",
            "HRDataset_v14\n",
            "22\n",
            "wilt\n",
            "23\n",
            "possum\n",
            "24\n",
            "Urban\n",
            "25\n",
            "turkiye-student-evaluation_generic\n",
            "26\n",
            "Fish\n",
            "27\n",
            "tae\n",
            "28\n",
            "student-por\n",
            "29\n",
            "Skin_NonSkin\n",
            "30\n",
            "pyramid_scheme\n",
            "31\n",
            "auto-mpg\n",
            "32\n",
            "Shill\n",
            "33\n",
            "sepsis\n",
            "34\n",
            "beauty\n",
            "35\n",
            "post-operative\n",
            "36\n",
            "poker\n",
            "37\n",
            "trainingData\n",
            "38\n",
            "SkillCraft1_Dataset\n",
            "39\n",
            "sgemm_product\n",
            "40\n",
            "servo\n",
            "41\n",
            "Real estate valuation data set\n",
            "42\n",
            "CASP\n",
            "43\n",
            "parkinsons_updrs\n",
            "44\n",
            "slump_test\n",
            "45\n",
            "Concrete_Data\n",
            "46\n",
            "machine\n",
            "47\n",
            "communities\n",
            "48\n",
            "Foldspp\n",
            "49\n",
            "day\n",
            "50\n",
            "Tetuan City power consumption\n",
            "51\n",
            "anneal\n",
            "52\n",
            "arrhythmia\n",
            "53\n",
            "bands\n",
            "54\n",
            "breast-cancer\n",
            "55\n",
            "bridges\n",
            "56\n",
            "crx\n",
            "57\n",
            "dermatology\n",
            "58\n",
            "Dry_Bean_Dataset\n",
            "59\n",
            "glass\n",
            "60\n",
            "house-votes-84\n",
            "61\n",
            "kohkiloyeh\n",
            "62\n",
            "transfusion\n",
            "63\n",
            "tips\n",
            "64\n",
            "cars\n",
            "65\n",
            "atp1d\n",
            "66\n",
            "Villaprice\n",
            "67\n",
            "IceCreamData\n",
            "68\n",
            "bodyfat\n",
            "69\n",
            "oxygen\n",
            "70\n",
            "Pizza-Price\n",
            "71\n",
            "SynchronousMachine\n",
            "72\n",
            "company\n",
            "73\n",
            "GoldUP\n",
            "74\n",
            "Cricket_chirps\n",
            "75\n",
            "Engineering_graduate_salary\n"
          ]
        }
      ]
    },
    {
      "cell_type": "code",
      "source": [
        "Predictors = pd.DataFrame.from_dict(predictorDict, orient ='index')"
      ],
      "metadata": {
        "id": "ifTCyBz-Fvkn"
      },
      "execution_count": null,
      "outputs": []
    },
    {
      "cell_type": "code",
      "source": [
        "Predictors"
      ],
      "metadata": {
        "colab": {
          "base_uri": "https://localhost:8080/",
          "height": 468
        },
        "id": "83KLl5R5QeuG",
        "outputId": "1a85ef73-c149-4cff-afaf-ba512d27cd39"
      },
      "execution_count": null,
      "outputs": [
        {
          "output_type": "execute_result",
          "data": {
            "text/plain": [
              "                                                         Data Name  \\\n",
              "iris                                                          iris   \n",
              "abalone                                                    abalone   \n",
              "mushrooms                                                mushrooms   \n",
              "drug200                                                    drug200   \n",
              "kag_risk_factors_cervical_cancer  kag_risk_factors_cervical_cancer   \n",
              "...                                                            ...   \n",
              "SynchronousMachine                              SynchronousMachine   \n",
              "company                                                    company   \n",
              "GoldUP                                                      GoldUP   \n",
              "Cricket_chirps                                      Cricket_chirps   \n",
              "Engineering_graduate_salary            Engineering_graduate_salary   \n",
              "\n",
              "                                  Column Row Ratio  File Size File Type  \\\n",
              "iris                                      0.033333       3975      .csv   \n",
              "abalone                                   0.002155     196156      .csv   \n",
              "mushrooms                                 0.002831     374003      .csv   \n",
              "drug200                                   0.030000       6029      .csv   \n",
              "kag_risk_factors_cervical_cancer          0.041958     102059      .csv   \n",
              "...                                            ...        ...       ...   \n",
              "SynchronousMachine                        0.008977      14585      .csv   \n",
              "company                                   0.020000       4060      .csv   \n",
              "GoldUP                                    0.033473      14166      .csv   \n",
              "Cricket_chirps                            0.001334      10617      .csv   \n",
              "Engineering_graduate_salary               0.011341     679982      .csv   \n",
              "\n",
              "                                    Uniqueness Score  \\\n",
              "iris                              0.9933333333333333   \n",
              "abalone                                          1.0   \n",
              "mushrooms                                        1.0   \n",
              "drug200                                          1.0   \n",
              "kag_risk_factors_cervical_cancer  0.9731934731934732   \n",
              "...                                              ...   \n",
              "SynchronousMachine                               1.0   \n",
              "company                                          1.0   \n",
              "GoldUP                                           1.0   \n",
              "Cricket_chirps                    0.0873915943962642   \n",
              "Engineering_graduate_salary                      1.0   \n",
              "\n",
              "                                  Accuracy Score (Numerical)  \\\n",
              "iris                                                0.993333   \n",
              "abalone                                             0.983421   \n",
              "mushrooms                                           0.000000   \n",
              "drug200                                             0.980000   \n",
              "kag_risk_factors_cervical_cancer                    0.098951   \n",
              "...                                                      ...   \n",
              "SynchronousMachine                                  1.000000   \n",
              "company                                             0.997500   \n",
              "GoldUP                                              0.974895   \n",
              "Cricket_chirps                                      0.965310   \n",
              "Engineering_graduate_salary                         0.769389   \n",
              "\n",
              "                                  Accuracy Score (Categorical)  \\\n",
              "iris                                                  1.000000   \n",
              "abalone                                               0.855366   \n",
              "mushrooms                                             0.001094   \n",
              "drug200                                               0.296296   \n",
              "kag_risk_factors_cervical_cancer                      0.002663   \n",
              "...                                                        ...   \n",
              "SynchronousMachine                                    0.000000   \n",
              "company                                               0.000000   \n",
              "GoldUP                                                1.000000   \n",
              "Cricket_chirps                                        0.000000   \n",
              "Engineering_graduate_salary                           0.000023   \n",
              "\n",
              "                                  Coverage Score  Conformity Score  \\\n",
              "iris                                    0.000000               0.0   \n",
              "abalone                                 0.123688               0.0   \n",
              "mushrooms                               0.725382               0.0   \n",
              "drug200                                 0.252544               0.0   \n",
              "kag_risk_factors_cervical_cancer        0.864533               0.0   \n",
              "...                                          ...               ...   \n",
              "SynchronousMachine                      0.000000               0.0   \n",
              "company                                 0.000000               0.0   \n",
              "GoldUP                                  0.004149               0.0   \n",
              "Cricket_chirps                          0.145497               0.0   \n",
              "Engineering_graduate_salary             0.924823               0.0   \n",
              "\n",
              "                                  Timeliness Score  \n",
              "iris                                             1  \n",
              "abalone                                          1  \n",
              "mushrooms                                        1  \n",
              "drug200                                          1  \n",
              "kag_risk_factors_cervical_cancer                 1  \n",
              "...                                            ...  \n",
              "SynchronousMachine                               1  \n",
              "company                                          1  \n",
              "GoldUP                                           1  \n",
              "Cricket_chirps                                   1  \n",
              "Engineering_graduate_salary                      1  \n",
              "\n",
              "[76 rows x 10 columns]"
            ],
            "text/html": [
              "\n",
              "  <div id=\"df-0522f33c-0618-4fc1-b86e-91623fc606f6\">\n",
              "    <div class=\"colab-df-container\">\n",
              "      <div>\n",
              "<style scoped>\n",
              "    .dataframe tbody tr th:only-of-type {\n",
              "        vertical-align: middle;\n",
              "    }\n",
              "\n",
              "    .dataframe tbody tr th {\n",
              "        vertical-align: top;\n",
              "    }\n",
              "\n",
              "    .dataframe thead th {\n",
              "        text-align: right;\n",
              "    }\n",
              "</style>\n",
              "<table border=\"1\" class=\"dataframe\">\n",
              "  <thead>\n",
              "    <tr style=\"text-align: right;\">\n",
              "      <th></th>\n",
              "      <th>Data Name</th>\n",
              "      <th>Column Row Ratio</th>\n",
              "      <th>File Size</th>\n",
              "      <th>File Type</th>\n",
              "      <th>Uniqueness Score</th>\n",
              "      <th>Accuracy Score (Numerical)</th>\n",
              "      <th>Accuracy Score (Categorical)</th>\n",
              "      <th>Coverage Score</th>\n",
              "      <th>Conformity Score</th>\n",
              "      <th>Timeliness Score</th>\n",
              "    </tr>\n",
              "  </thead>\n",
              "  <tbody>\n",
              "    <tr>\n",
              "      <th>iris</th>\n",
              "      <td>iris</td>\n",
              "      <td>0.033333</td>\n",
              "      <td>3975</td>\n",
              "      <td>.csv</td>\n",
              "      <td>0.9933333333333333</td>\n",
              "      <td>0.993333</td>\n",
              "      <td>1.000000</td>\n",
              "      <td>0.000000</td>\n",
              "      <td>0.0</td>\n",
              "      <td>1</td>\n",
              "    </tr>\n",
              "    <tr>\n",
              "      <th>abalone</th>\n",
              "      <td>abalone</td>\n",
              "      <td>0.002155</td>\n",
              "      <td>196156</td>\n",
              "      <td>.csv</td>\n",
              "      <td>1.0</td>\n",
              "      <td>0.983421</td>\n",
              "      <td>0.855366</td>\n",
              "      <td>0.123688</td>\n",
              "      <td>0.0</td>\n",
              "      <td>1</td>\n",
              "    </tr>\n",
              "    <tr>\n",
              "      <th>mushrooms</th>\n",
              "      <td>mushrooms</td>\n",
              "      <td>0.002831</td>\n",
              "      <td>374003</td>\n",
              "      <td>.csv</td>\n",
              "      <td>1.0</td>\n",
              "      <td>0.000000</td>\n",
              "      <td>0.001094</td>\n",
              "      <td>0.725382</td>\n",
              "      <td>0.0</td>\n",
              "      <td>1</td>\n",
              "    </tr>\n",
              "    <tr>\n",
              "      <th>drug200</th>\n",
              "      <td>drug200</td>\n",
              "      <td>0.030000</td>\n",
              "      <td>6029</td>\n",
              "      <td>.csv</td>\n",
              "      <td>1.0</td>\n",
              "      <td>0.980000</td>\n",
              "      <td>0.296296</td>\n",
              "      <td>0.252544</td>\n",
              "      <td>0.0</td>\n",
              "      <td>1</td>\n",
              "    </tr>\n",
              "    <tr>\n",
              "      <th>kag_risk_factors_cervical_cancer</th>\n",
              "      <td>kag_risk_factors_cervical_cancer</td>\n",
              "      <td>0.041958</td>\n",
              "      <td>102059</td>\n",
              "      <td>.csv</td>\n",
              "      <td>0.9731934731934732</td>\n",
              "      <td>0.098951</td>\n",
              "      <td>0.002663</td>\n",
              "      <td>0.864533</td>\n",
              "      <td>0.0</td>\n",
              "      <td>1</td>\n",
              "    </tr>\n",
              "    <tr>\n",
              "      <th>...</th>\n",
              "      <td>...</td>\n",
              "      <td>...</td>\n",
              "      <td>...</td>\n",
              "      <td>...</td>\n",
              "      <td>...</td>\n",
              "      <td>...</td>\n",
              "      <td>...</td>\n",
              "      <td>...</td>\n",
              "      <td>...</td>\n",
              "      <td>...</td>\n",
              "    </tr>\n",
              "    <tr>\n",
              "      <th>SynchronousMachine</th>\n",
              "      <td>SynchronousMachine</td>\n",
              "      <td>0.008977</td>\n",
              "      <td>14585</td>\n",
              "      <td>.csv</td>\n",
              "      <td>1.0</td>\n",
              "      <td>1.000000</td>\n",
              "      <td>0.000000</td>\n",
              "      <td>0.000000</td>\n",
              "      <td>0.0</td>\n",
              "      <td>1</td>\n",
              "    </tr>\n",
              "    <tr>\n",
              "      <th>company</th>\n",
              "      <td>company</td>\n",
              "      <td>0.020000</td>\n",
              "      <td>4060</td>\n",
              "      <td>.csv</td>\n",
              "      <td>1.0</td>\n",
              "      <td>0.997500</td>\n",
              "      <td>0.000000</td>\n",
              "      <td>0.000000</td>\n",
              "      <td>0.0</td>\n",
              "      <td>1</td>\n",
              "    </tr>\n",
              "    <tr>\n",
              "      <th>GoldUP</th>\n",
              "      <td>GoldUP</td>\n",
              "      <td>0.033473</td>\n",
              "      <td>14166</td>\n",
              "      <td>.csv</td>\n",
              "      <td>1.0</td>\n",
              "      <td>0.974895</td>\n",
              "      <td>1.000000</td>\n",
              "      <td>0.004149</td>\n",
              "      <td>0.0</td>\n",
              "      <td>1</td>\n",
              "    </tr>\n",
              "    <tr>\n",
              "      <th>Cricket_chirps</th>\n",
              "      <td>Cricket_chirps</td>\n",
              "      <td>0.001334</td>\n",
              "      <td>10617</td>\n",
              "      <td>.csv</td>\n",
              "      <td>0.0873915943962642</td>\n",
              "      <td>0.965310</td>\n",
              "      <td>0.000000</td>\n",
              "      <td>0.145497</td>\n",
              "      <td>0.0</td>\n",
              "      <td>1</td>\n",
              "    </tr>\n",
              "    <tr>\n",
              "      <th>Engineering_graduate_salary</th>\n",
              "      <td>Engineering_graduate_salary</td>\n",
              "      <td>0.011341</td>\n",
              "      <td>679982</td>\n",
              "      <td>.csv</td>\n",
              "      <td>1.0</td>\n",
              "      <td>0.769389</td>\n",
              "      <td>0.000023</td>\n",
              "      <td>0.924823</td>\n",
              "      <td>0.0</td>\n",
              "      <td>1</td>\n",
              "    </tr>\n",
              "  </tbody>\n",
              "</table>\n",
              "<p>76 rows × 10 columns</p>\n",
              "</div>\n",
              "      <button class=\"colab-df-convert\" onclick=\"convertToInteractive('df-0522f33c-0618-4fc1-b86e-91623fc606f6')\"\n",
              "              title=\"Convert this dataframe to an interactive table.\"\n",
              "              style=\"display:none;\">\n",
              "        \n",
              "  <svg xmlns=\"http://www.w3.org/2000/svg\" height=\"24px\"viewBox=\"0 0 24 24\"\n",
              "       width=\"24px\">\n",
              "    <path d=\"M0 0h24v24H0V0z\" fill=\"none\"/>\n",
              "    <path d=\"M18.56 5.44l.94 2.06.94-2.06 2.06-.94-2.06-.94-.94-2.06-.94 2.06-2.06.94zm-11 1L8.5 8.5l.94-2.06 2.06-.94-2.06-.94L8.5 2.5l-.94 2.06-2.06.94zm10 10l.94 2.06.94-2.06 2.06-.94-2.06-.94-.94-2.06-.94 2.06-2.06.94z\"/><path d=\"M17.41 7.96l-1.37-1.37c-.4-.4-.92-.59-1.43-.59-.52 0-1.04.2-1.43.59L10.3 9.45l-7.72 7.72c-.78.78-.78 2.05 0 2.83L4 21.41c.39.39.9.59 1.41.59.51 0 1.02-.2 1.41-.59l7.78-7.78 2.81-2.81c.8-.78.8-2.07 0-2.86zM5.41 20L4 18.59l7.72-7.72 1.47 1.35L5.41 20z\"/>\n",
              "  </svg>\n",
              "      </button>\n",
              "      \n",
              "  <style>\n",
              "    .colab-df-container {\n",
              "      display:flex;\n",
              "      flex-wrap:wrap;\n",
              "      gap: 12px;\n",
              "    }\n",
              "\n",
              "    .colab-df-convert {\n",
              "      background-color: #E8F0FE;\n",
              "      border: none;\n",
              "      border-radius: 50%;\n",
              "      cursor: pointer;\n",
              "      display: none;\n",
              "      fill: #1967D2;\n",
              "      height: 32px;\n",
              "      padding: 0 0 0 0;\n",
              "      width: 32px;\n",
              "    }\n",
              "\n",
              "    .colab-df-convert:hover {\n",
              "      background-color: #E2EBFA;\n",
              "      box-shadow: 0px 1px 2px rgba(60, 64, 67, 0.3), 0px 1px 3px 1px rgba(60, 64, 67, 0.15);\n",
              "      fill: #174EA6;\n",
              "    }\n",
              "\n",
              "    [theme=dark] .colab-df-convert {\n",
              "      background-color: #3B4455;\n",
              "      fill: #D2E3FC;\n",
              "    }\n",
              "\n",
              "    [theme=dark] .colab-df-convert:hover {\n",
              "      background-color: #434B5C;\n",
              "      box-shadow: 0px 1px 3px 1px rgba(0, 0, 0, 0.15);\n",
              "      filter: drop-shadow(0px 1px 2px rgba(0, 0, 0, 0.3));\n",
              "      fill: #FFFFFF;\n",
              "    }\n",
              "  </style>\n",
              "\n",
              "      <script>\n",
              "        const buttonEl =\n",
              "          document.querySelector('#df-0522f33c-0618-4fc1-b86e-91623fc606f6 button.colab-df-convert');\n",
              "        buttonEl.style.display =\n",
              "          google.colab.kernel.accessAllowed ? 'block' : 'none';\n",
              "\n",
              "        async function convertToInteractive(key) {\n",
              "          const element = document.querySelector('#df-0522f33c-0618-4fc1-b86e-91623fc606f6');\n",
              "          const dataTable =\n",
              "            await google.colab.kernel.invokeFunction('convertToInteractive',\n",
              "                                                     [key], {});\n",
              "          if (!dataTable) return;\n",
              "\n",
              "          const docLinkHtml = 'Like what you see? Visit the ' +\n",
              "            '<a target=\"_blank\" href=https://colab.research.google.com/notebooks/data_table.ipynb>data table notebook</a>'\n",
              "            + ' to learn more about interactive tables.';\n",
              "          element.innerHTML = '';\n",
              "          dataTable['output_type'] = 'display_data';\n",
              "          await google.colab.output.renderOutput(dataTable, element);\n",
              "          const docLink = document.createElement('div');\n",
              "          docLink.innerHTML = docLinkHtml;\n",
              "          element.appendChild(docLink);\n",
              "        }\n",
              "      </script>\n",
              "    </div>\n",
              "  </div>\n",
              "  "
            ]
          },
          "metadata": {},
          "execution_count": 38
        }
      ]
    },
    {
      "cell_type": "code",
      "source": [
        "Predictors.to_csv('Predictors.csv')"
      ],
      "metadata": {
        "id": "FTF6FPVJFC1c"
      },
      "execution_count": null,
      "outputs": []
    },
    {
      "cell_type": "markdown",
      "source": [
        "# Imports and Mount to Drive"
      ],
      "metadata": {
        "id": "_9Lj0tsEjLZZ"
      }
    },
    {
      "cell_type": "code",
      "execution_count": null,
      "metadata": {
        "id": "dBQQ-v71TmWD",
        "colab": {
          "base_uri": "https://localhost:8080/"
        },
        "outputId": "7835220b-ab5e-4302-8506-5990dbddef9a"
      },
      "outputs": [
        {
          "output_type": "stream",
          "name": "stderr",
          "text": [
            "/usr/local/lib/python3.7/dist-packages/datascience/tables.py:17: MatplotlibDeprecationWarning: The 'warn' parameter of use() is deprecated since Matplotlib 3.1 and will be removed in 3.3.  If any parameter follows 'warn', they should be pass as keyword, not positionally.\n",
            "  matplotlib.use('agg', warn=False)\n",
            "/usr/local/lib/python3.7/dist-packages/datascience/util.py:10: MatplotlibDeprecationWarning: The 'warn' parameter of use() is deprecated since Matplotlib 3.1 and will be removed in 3.3.  If any parameter follows 'warn', they should be pass as keyword, not positionally.\n",
            "  matplotlib.use('agg', warn=False)\n"
          ]
        }
      ],
      "source": [
        "import pandas as pd\n",
        "import sklearn as sk\n",
        "import numpy as np\n",
        "from datascience import *\n",
        "import os\n",
        "from pathlib import Path\n",
        "import nltk as nl\n",
        "import statistics\n",
        "from datetime import date \n",
        "import math\n",
        "from pandas.api.types import is_datetime64_any_dtype as is_datetime\n",
        "\n",
        "\n",
        "#!pip install flaml"
      ]
    },
    {
      "cell_type": "code",
      "source": [
        "from google.colab import drive\n",
        "drive.mount('/content/drive')\n",
        "path= \"/content/drive/Shared drives/Capstone 440/Data/Moviedata.csv\"\n",
        "#path= \"/content/drive/Shared drives/Capstone 440/Data/iris.csv\""
      ],
      "metadata": {
        "colab": {
          "base_uri": "https://localhost:8080/"
        },
        "id": "_cMnnydtYUXb",
        "outputId": "9351cee6-967b-479f-ce00-dc72dfa8201c"
      },
      "execution_count": null,
      "outputs": [
        {
          "output_type": "stream",
          "name": "stdout",
          "text": [
            "Mounted at /content/drive\n"
          ]
        }
      ]
    },
    {
      "cell_type": "markdown",
      "source": [
        "#Column Row Ratio"
      ],
      "metadata": {
        "id": "PFNy7Uo_m8vK"
      }
    },
    {
      "cell_type": "code",
      "source": [
        "def column_row_ratio(data):\n",
        "  col_num = data.num_columns\n",
        "  row_num = data.num_rows\n",
        "  \n",
        "  if row_num < 10*col_num:\n",
        "    toReturnStr = \"WARNING: Dataset does not pass size test. Row Amount: \" + str(row_num) + \" Column Amount: \" + str(col_num)\n",
        "  else:\n",
        "    toReturnStr = \"Dataset passes size test. Row amount: \" + str(row_num) + \" Column Amount: \" + str(col_num)\n",
        "    \n",
        "  toReturn  = col_num/row_num\n",
        "  return toReturn, toReturnStr"
      ],
      "metadata": {
        "id": "RiLv8Q7TZVI-"
      },
      "execution_count": null,
      "outputs": []
    },
    {
      "cell_type": "markdown",
      "source": [
        "#File Size"
      ],
      "metadata": {
        "id": "ljttvxX7nHOE"
      }
    },
    {
      "cell_type": "code",
      "source": [
        "def file_size(path):\n",
        "  byte_size = os.stat(path).st_size\n",
        "  return byte_size"
      ],
      "metadata": {
        "id": "5ISp-_lAdciF"
      },
      "execution_count": null,
      "outputs": []
    },
    {
      "cell_type": "markdown",
      "source": [
        "#File Type"
      ],
      "metadata": {
        "id": "xFxZ-_IrnOpj"
      }
    },
    {
      "cell_type": "code",
      "source": [
        "def file_type(path):\n",
        "  file_type = Path(path).suffix\n",
        "  toReturn = \"The imported file is a: \" + str(file_type) + \" file\"\n",
        "  return file_type"
      ],
      "metadata": {
        "id": "IC9JxZH3gVYo"
      },
      "execution_count": null,
      "outputs": []
    },
    {
      "cell_type": "markdown",
      "source": [
        "#Uniqueness "
      ],
      "metadata": {
        "id": "7AGzSLeKnRGl"
      }
    },
    {
      "cell_type": "code",
      "source": [
        "def uniqueness(path):\n",
        "  df = pd.read_csv(path)\n",
        "  toReturn1 = \"\"\n",
        "  toReturn2 = \"\"\n",
        "  toReturn3 = \"\"\n",
        "\n",
        "  dup_rows = df.duplicated()\n",
        "  toReturn1 = str(sum(dup_rows))\n",
        "\n",
        "  dup_score = 1 - ((sum(dup_rows))/df.shape[0])\n",
        "  toReturn2 = str(dup_score)\n",
        "\n",
        "  #duplicate rows returned in toReturn3\n",
        "  toReturn3 = df[df.duplicated(keep=False)]\n",
        "\n",
        "  return toReturn1, toReturn2, toReturn3\n",
        "  "
      ],
      "metadata": {
        "id": "IFbgurRLiYvG"
      },
      "execution_count": null,
      "outputs": []
    },
    {
      "cell_type": "markdown",
      "source": [
        "#Accuracy "
      ],
      "metadata": {
        "id": "0w0DC77BnYOZ"
      }
    },
    {
      "cell_type": "code",
      "source": [
        "#when refering to csv file, add two for row index\n",
        "#this accounts for new index starting at 0 and removing of header row\n",
        "def accuracy(path):\n",
        "\n",
        "  df = pd.read_csv(path)\n",
        "\n",
        "  out_dict = {}\n",
        "  stor_dist = {} \n",
        "\n",
        "  for col in df:\n",
        "    if df[col].dtype == 'float64' or  df[col].dtype == 'int64':\n",
        "      u_list = list(df[col].unique())\n",
        "\n",
        "\n",
        "      Q1 = np.percentile(df[col], 25, interpolation = 'midpoint')\n",
        "      Q3 = np.percentile(df[col], 75, interpolation = 'midpoint')\n",
        "      IQR = Q3 - Q1\n",
        "      upper = df[col] >= (Q3+1.5*IQR)\n",
        "      lower = df[col] <= (Q1-1.5*IQR)\n",
        "      out_dict[col] = np.where(upper | lower)\n",
        "\n",
        "      if(len(list(map(list, out_dict[col]))[0]) != 0):\n",
        "        out_dict[col] = list(map(list, out_dict[col]))[0]\n",
        "      else:\n",
        "        out_dict[col] = \"No Outliers\"\n",
        "\n",
        "    elif len(list(df[col].unique())) == len(df.index):\n",
        "      stor_dist['Date'] = 1\n",
        "\n",
        "    elif df[col].dtype != 'float64' or  df[col].dtype != 'int64':\n",
        "      u_list = list(df[col].unique())\n",
        "\n",
        "      norm_value_freq = df[col].value_counts(normalize=True)\n",
        "\n",
        "      for i in u_list:\n",
        "        if len(u_list) > 1:\n",
        "          stor_dist[i] = []\n",
        "          for j in u_list:\n",
        "            if (i != j) and (str(i) != \"nan\")and (str(j) != \"nan\"):\n",
        "              stor_dist[i].append(nl.edit_distance(str(i), str(j)))\n",
        "          if (str(i) != \"nan\"):\n",
        "            stor_dist[i] = (min(stor_dist[i])) * ((norm_value_freq[i])**-1)\n",
        "          \n",
        "        else:\n",
        "          stor_dist[i] = 1\n",
        "      for i in u_list:\n",
        "          stor_dist[i] = stor_dist[i]/(max(stor_dist.values()))\n",
        "\n",
        "  #Calculate Score\n",
        "  numOutlierScoreList = []\n",
        "  catOutlierScoreList = []\n",
        "  numOutlierScore = 0\n",
        "  catOutlierScore = 0\n",
        "  for key in out_dict.keys():\n",
        "    if out_dict[key] == \"No Outliers\":\n",
        "      numOutlierScoreList.append(0)\n",
        "    else:\n",
        "      numOutlierScoreList.append(len(out_dict[key]) / len(df.index))\n",
        "  if len(numOutlierScoreList) >= 1:\n",
        "    numOutlierScore = 1 - (sum(numOutlierScoreList)/len(numOutlierScoreList))\n",
        "  else:\n",
        "    numOutlierScore = 0\n",
        "  for key in stor_dist.keys():\n",
        "    catOutlierScoreList.append(stor_dist[key])\n",
        "  if len(catOutlierScoreList) >= 1:\n",
        "    catOutlierScore = 1 - (max(catOutlierScoreList) - min(catOutlierScoreList))\n",
        "  else:\n",
        "    catOutlierScore = 0\n",
        "\n",
        "\n",
        "\n",
        "  return out_dict, stor_dist, numOutlierScore, catOutlierScore"
      ],
      "metadata": {
        "id": "Vhf-Rv6vTsPQ"
      },
      "execution_count": null,
      "outputs": []
    },
    {
      "cell_type": "markdown",
      "source": [
        "#Completeness"
      ],
      "metadata": {
        "id": "yKt9bNB0ngtS"
      }
    },
    {
      "cell_type": "code",
      "source": [
        "#Score of 0 is perfect (no null)\n",
        "def completeness(path):\n",
        "  df = pd.read_csv(path)\n",
        "  Completeness_Proportion = True\n",
        "  Completeness_Dict = {}\n",
        "\n",
        "\n",
        "  for col in df:\n",
        "    Completeness_Dict[col] = sum(df[col].isnull())\n",
        "    if Completeness_Proportion:\n",
        "      Completeness_Dict[col] = Completeness_Dict[col]/len(df[col])\n",
        "\n",
        "  return Completeness_Dict"
      ],
      "metadata": {
        "id": "Kldkpliqjq4K"
      },
      "execution_count": null,
      "outputs": []
    },
    {
      "cell_type": "markdown",
      "source": [
        "#Coverage\n",
        "\n",
        "\n",
        "\n"
      ],
      "metadata": {
        "id": "XobRzINbnn_c"
      }
    },
    {
      "cell_type": "code",
      "source": [
        "def cointains_int(self):\n",
        "  for val in self:\n",
        "    if (isinstance(val, float)) or (isinstance(val, int)):\n",
        "        return True\n",
        "  return False"
      ],
      "metadata": {
        "id": "5QGo6WWmfDDf"
      },
      "execution_count": null,
      "outputs": []
    },
    {
      "cell_type": "code",
      "source": [
        "#Returns Coverage on only non int or float type columns\n",
        "#0 is best score here\n",
        "def coverage(path):\n",
        "  df = pd.read_csv(path)\n",
        "  toReturn = []\n",
        "  values = []\n",
        "  for col in df:\n",
        "    u_list = list(df[col].unique())\n",
        "    if not cointains_int(u_list):\n",
        "      for i in u_list:\n",
        "        response = \"Value: \" + str(i) + \" Representation: \" + str(abs(df[col].value_counts(normalize=True)[i] - (1/len(u_list))))\n",
        "        values.append(abs(df[col].value_counts(normalize=True)[i] - (1/len(u_list))))\n",
        "        toReturn.append(response)\n",
        "    if len(values) == 0:\n",
        "      response = \"Integers found: No coverage needed\"\n",
        "      values = [0]\n",
        "      toReturn.append(response)\n",
        "  return toReturn, (max(values) - min(values))"
      ],
      "metadata": {
        "id": "K1k1_BvWn874"
      },
      "execution_count": null,
      "outputs": []
    },
    {
      "cell_type": "markdown",
      "source": [
        "#Conformity/Consistency "
      ],
      "metadata": {
        "id": "DXwEIkgrnvqd"
      }
    },
    {
      "cell_type": "code",
      "source": [
        "def conformity_consistency(path):\n",
        "\n",
        "  df = pd.read_csv(path)\n",
        "  toReturnDF = df.applymap(type).apply(pd.value_counts).fillna(0)\n",
        "  conformScore = sum(df.shape[0] - toReturnDF.max())\n",
        "  return toReturnDF, conformScore\n",
        "\n"
      ],
      "metadata": {
        "id": "mN-awAatAUu_"
      },
      "execution_count": null,
      "outputs": []
    },
    {
      "cell_type": "markdown",
      "source": [
        "#Timeliness"
      ],
      "metadata": {
        "id": "wuW1b0ygjhx6"
      }
    },
    {
      "cell_type": "code",
      "source": [
        "def Timeliness(askUser = True):\n",
        "  if askUser == False:\n",
        "    return 0,1\n",
        "  cur_date = date.today()\n",
        "  year = input(\"Year of data creation: \")\n",
        "  month = input(\"Month of data creation: \")\n",
        "  day = input(\"Day of data creation: \")\n",
        "  creation_date = str(year) + '-' + str(month) + '-' + str(day)\n",
        "  datetimeobj = date.fromisoformat(creation_date)\n",
        "  data_age = cur_date - datetimeobj\n",
        "  return data_age.days, math.exp(-(1/365)*data_age.days)"
      ],
      "metadata": {
        "id": "iSI-0HPIjg1v"
      },
      "execution_count": null,
      "outputs": []
    }
  ]
}